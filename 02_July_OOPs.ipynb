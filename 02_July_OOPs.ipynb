{
  "nbformat": 4,
  "nbformat_minor": 0,
  "metadata": {
    "colab": {
      "provenance": []
    },
    "kernelspec": {
      "name": "python3",
      "display_name": "Python 3"
    },
    "language_info": {
      "name": "python"
    }
  },
  "cells": [
    {
      "cell_type": "markdown",
      "source": [
        "1. Explain what inheritance is in object-oriented programming and why it is used.\n",
        "\n",
        "**Answer:** Inheritance in OOP refers to inheriting of methods and properties of a parent class or base class from a child class. We can use the cencept of inheritance when there exists a relationship between the two classes i.e. parent and child.\n",
        "\n",
        "It is used to maintain the re-usability of the code, the child class can access all the properties of its parent class thereby reducing the taks of re-creation."
      ],
      "metadata": {
        "id": "WIn5wyXKsu1D"
      }
    },
    {
      "cell_type": "markdown",
      "source": [
        "2. Discuss the concept of single inheritance and multiple inheritance, highlighting their\n",
        "differences and advantages.\n",
        "\n",
        "**Answer:** Single Inheritance implies that a dervied class can inherit properties of a single parent class and thereby resuing the items of parent class and that leads to a faster execution time because of less number of heads.\n",
        "\n",
        "Whereas Multiple Inheritance implies that a dervied class can inherit properties of multiple parent classes and thereby resuing the items of multiple parent classes leading to more reusability but it also leads to more complexity because of more number of heads."
      ],
      "metadata": {
        "id": "kA37MGGA4yep"
      }
    },
    {
      "cell_type": "markdown",
      "source": [
        "3. Explain the terms \"base class\" and \"derived class\" in the context of inheritance.\n",
        "\n",
        "**Answer:** The term \"base class\" in inheritance refers to the parent class; the class from we can inherit the properties and attributes and use it in another class.\n",
        "\n",
        "The term \"derived class\" in inheritance refers to the child class; the class which inherits the properties and attributes from the paremt class and use it further."
      ],
      "metadata": {
        "id": "gDEp9ph_443f"
      }
    },
    {
      "cell_type": "markdown",
      "source": [
        "4. What is the significance of the \"protected\" access modifier in inheritance? How does\n",
        "it differ from \"private\" and \"public\" modifiers?\n",
        "\n",
        "**Answer:** The **\"protected\"** access modifiers lets the user access the properties or attributes of a base class only in the same class or the dervied class. Basically it provides a a security level which any other class cannot access. We denote protected access modfier by adding single underscore as prefix to the variable name. Syntax example : _protectedvariable.\n",
        "\n",
        "The **\"private\"** access modifiers lets the user access the properties or attributes in the same class only, it cannot be used from outside the class.\n",
        "It is most secured access modifier compared to other modifiers. We denote privare access modfier by adding double underscore as prefix to the variable name. Syntax example : __privatevariable.\n",
        "\n",
        "\n",
        "The **\"public\"** access modifiers lets the user access the properties or attributes from any part of the program flow."
      ],
      "metadata": {
        "id": "1Y8RxSnnXbaK"
      }
    },
    {
      "cell_type": "markdown",
      "source": [
        "Below code has been written for better understanding of the access modifiers."
      ],
      "metadata": {
        "id": "9C84QKc8vtOW"
      }
    },
    {
      "cell_type": "code",
      "source": [
        "#Base Class\n",
        "class Employee:\n",
        "     def __init__(self, name,employeeid, branch):\n",
        "          self.name = name #Public access modifier.\n",
        "          self._branch = branch #Protected access modifier.\n",
        "          self.__employeeid = employeeid #Private access modifier.\n",
        "\n",
        "     # protected function | from the protected function we are accessing both protected and private members, and we can access the function outside the class.\n",
        "     def _displayDetails(self):\n",
        "          print(\"Private variable Employee ID accessed from protected method: \", self.__employeeid)\n",
        "          print(\"Protected variable Branch accessed from protected method: \", self._branch)\n",
        "\n",
        "     # private function  | we cannot access the function from outside the class.\n",
        "     def __displayBranch(self):\n",
        "          # accessing protected data members\n",
        "          print(\"Employee ID: \", self.__employeeid)\n",
        "          print(\"Branch: \", self._branch)\n",
        "\n",
        "#Derived Class\n",
        "class Office(Employee):\n",
        "\n",
        "       def __init__(self,name, employeeid, branch):\n",
        "                super().__init__(name,employeeid, branch)\n",
        "\n",
        "       def displayDetails(self):\n",
        "                self._displayDetails()\n",
        "\n",
        "# creating objects of the derived class\n",
        "ofc = Office(\"Arun\",1706256, \"Information Technology\")\n",
        "# calling public member functions of the class\n",
        "ofc.displayDetails()"
      ],
      "metadata": {
        "colab": {
          "base_uri": "https://localhost:8080/"
        },
        "id": "zyAgqusbnBGR",
        "outputId": "671d1b75-d67e-4f1a-9c30-a234ab9b2ce8"
      },
      "execution_count": 14,
      "outputs": [
        {
          "output_type": "stream",
          "name": "stdout",
          "text": [
            "Private variable Employee ID accessed from protected method:  1706256\n",
            "Protected variable Branch accessed from protected method:  Information Technology\n"
          ]
        }
      ]
    },
    {
      "cell_type": "markdown",
      "source": [
        "5. What is the purpose of the \"super\" keyword in inheritance? Provide an example.\n",
        "\n",
        "**Answer:** The purpose of \"super\" keyword in inheritance is it is used to access the attributes or properties of a parent class from a child class.\n",
        "\n",
        "The below piece of code gives an overview of the usage of the super keyword.\n",
        "\n",
        "    class parentclass:\n",
        "          def __init__(self,a):\n",
        "            self.a = a\n",
        "          def some_method(self):\n",
        "            return something\n",
        "\n",
        "    class child(parentclass):\n",
        "          super().some_method(a) #With super keyword we are accessing the parent method some_method.\n"
      ],
      "metadata": {
        "id": "VK-0gNm6Xd50"
      }
    },
    {
      "cell_type": "markdown",
      "source": [
        "6. Create a base class called \"Vehicle\" with attributes like \"make\", \"model\", and \"year\".\n",
        "Then, create a derived class called \"Car\" that inherits from \"Vehicle\" and adds an\n",
        "attribute called \"fuel_type\". Implement appropriate methods in both classes."
      ],
      "metadata": {
        "id": "1ABY1D1YuKli"
      }
    },
    {
      "cell_type": "code",
      "source": [
        "class Vehicle:\n",
        "  def __init__(self,make,model,year):\n",
        "    self.make = make\n",
        "    self.model = model\n",
        "    self.year = year\n",
        "\n",
        "  def DisplayCarSpecs(self):\n",
        "    print(f\"The car {self.model} was made by : {self.make} in the year {self.year}.\")\n",
        "\n",
        "class Car(Vehicle):\n",
        "  def __init__(self,make,model,year,fuel_type):\n",
        "    super().__init__(make,model,year)\n",
        "    self.fuel_type = fuel_type\n",
        "\n",
        "  def ShowCarSpecs(self):\n",
        "    super().DisplayCarSpecs()\n",
        "    print(f\"The car's fuel type is: {self.fuel_type}.\")\n"
      ],
      "metadata": {
        "id": "Vn_GeQXqt0V2"
      },
      "execution_count": 15,
      "outputs": []
    },
    {
      "cell_type": "code",
      "source": [
        "veh= Car(\"Honda\",\"Honda City\",2010,\"Petrol\")\n",
        "veh.ShowCarSpecs()"
      ],
      "metadata": {
        "colab": {
          "base_uri": "https://localhost:8080/"
        },
        "id": "3SlvN1Nmvq1J",
        "outputId": "067278ac-b5c2-45c2-a5b9-6be2cd7fcca3"
      },
      "execution_count": 16,
      "outputs": [
        {
          "output_type": "stream",
          "name": "stdout",
          "text": [
            "The car Honda City was made by : Honda in the year 2010.\n",
            "The car's fuel type is: Petrol.\n"
          ]
        }
      ]
    },
    {
      "cell_type": "markdown",
      "source": [
        "7. Create a base class called \"Employee\" with attributes like \"name\" and \"salary.\"\n",
        "Derive two classes, \"Manager\" and \"Developer,\" from \"Employee.\" Add an additional\n",
        "attribute called \"department\" for the \"Manager\" class and \"programming_language\"\n",
        "for the \"Developer\" class."
      ],
      "metadata": {
        "id": "WyjVNOzzwSAI"
      }
    },
    {
      "cell_type": "code",
      "source": [
        "class Employee:\n",
        "  def __init__(self,name,salary):\n",
        "    self.name = name\n",
        "    self.salary = salary\n",
        "\n",
        "  def DisplayDetails(self):\n",
        "    print(f\"{self.name} receives a salary maount of {self.salary}.\")\n",
        "\n",
        "class Manager(Employee):\n",
        "  def __init__(self,name,salary,department):\n",
        "    super().__init__(name,salary)\n",
        "    self.department = department\n",
        "\n",
        "  def ManagerDetails(self):\n",
        "    super().DisplayDetails()\n",
        "    print(f\"The department is {self.department}.\")\n",
        "\n",
        "\n",
        "class Developer(Employee):\n",
        "  def __init__(self,name,salary,department):\n",
        "    super().__init__(name,salary)\n",
        "    self.department = department\n",
        "\n",
        "  def DeveloperDetails(self):\n",
        "    super().DisplayDetails()\n",
        "    print(f\"The department is {self.department}.\")\n"
      ],
      "metadata": {
        "id": "pZwtHVDOwMXL"
      },
      "execution_count": 17,
      "outputs": []
    },
    {
      "cell_type": "code",
      "source": [
        "manager = Manager(\"Arun\",10000,\"HR Manager\")\n",
        "manager.ManagerDetails()"
      ],
      "metadata": {
        "colab": {
          "base_uri": "https://localhost:8080/"
        },
        "id": "IcLeRWIVxiaS",
        "outputId": "1e9e30e0-2a31-4e3d-f3c1-7df675b6886b"
      },
      "execution_count": 18,
      "outputs": [
        {
          "output_type": "stream",
          "name": "stdout",
          "text": [
            "Arun receives a salary maount of 10000.\n",
            "The department is HR Manager.\n"
          ]
        }
      ]
    },
    {
      "cell_type": "code",
      "source": [
        "manager = Manager(\"Arun\",10000,\"HR Manager\")\n",
        "manager.DisplayDetails()"
      ],
      "metadata": {
        "colab": {
          "base_uri": "https://localhost:8080/"
        },
        "id": "1fOxQGfpxzLF",
        "outputId": "a1531e97-599b-434b-c27b-653df81b1583"
      },
      "execution_count": 22,
      "outputs": [
        {
          "output_type": "stream",
          "name": "stdout",
          "text": [
            "Arun receives a salary maount of 10000.\n"
          ]
        }
      ]
    },
    {
      "cell_type": "code",
      "source": [
        "developer = Developer(\"Arun\",10000,\"Python Developer\")\n",
        "developer.DeveloperDetails()"
      ],
      "metadata": {
        "colab": {
          "base_uri": "https://localhost:8080/"
        },
        "id": "g7x1ipuzyAE0",
        "outputId": "79fe83a4-654b-4f9b-8a84-d0612040434d"
      },
      "execution_count": 23,
      "outputs": [
        {
          "output_type": "stream",
          "name": "stdout",
          "text": [
            "Arun receives a salary maount of 10000.\n",
            "The department is Python Developer.\n"
          ]
        }
      ]
    },
    {
      "cell_type": "markdown",
      "source": [
        "8. Design a base class called \"Shape\" with attributes like \"colour\" and \"border_width.\"\n",
        "Create derived classes, \"Rectangle\" and \"Circle,\" that inherit from \"Shape\" and add\n",
        "specific attributes like \"length\" and \"width\" for the \"Rectangle\" class and \"radius\" for\n",
        "the \"Circle\" class."
      ],
      "metadata": {
        "id": "-5c6WEMCyOuA"
      }
    },
    {
      "cell_type": "code",
      "source": [
        "class Shape:\n",
        "  def __init__(self,colour,border_width):\n",
        "    self.colour = colour\n",
        "    self.border_width = border_width\n",
        "\n",
        "  def DisplayDetails(self):\n",
        "    print(f\"The item is of colour {self.colour} and is of border width {self.border_width}.\")\n",
        "\n",
        "class Rectangle(Shape):\n",
        "  def __init__(self,colour,border_width,length,width):\n",
        "    super().__init__(colour,border_width)\n",
        "    self.length = length\n",
        "    self.width = width\n",
        "\n",
        "  def RectangleDetails(self):\n",
        "    super().DisplayDetails()\n",
        "    print(f\"The length is {self.length} and width is {self.width}.\")\n",
        "\n",
        "\n",
        "class Circle(Shape):\n",
        "  def __init__(self,colour,border_width,radius):\n",
        "    super().__init__(colour,border_width)\n",
        "    self.radius = radius\n",
        "\n",
        "  def CircleDetails(self):\n",
        "    super().DisplayDetails()\n",
        "    print(f\"The radius is {self.radius}.\")\n"
      ],
      "metadata": {
        "id": "4IZfjsxtyJRe"
      },
      "execution_count": 24,
      "outputs": []
    },
    {
      "cell_type": "code",
      "source": [
        "shape = Rectangle(\"Red\",\"2cm\",\"15cm\",\"10cm\")\n",
        "shape.RectangleDetails()"
      ],
      "metadata": {
        "colab": {
          "base_uri": "https://localhost:8080/"
        },
        "id": "7ze0F8qBzYZb",
        "outputId": "a228fe33-f5c3-4610-fcf2-8502e963a4bf"
      },
      "execution_count": 25,
      "outputs": [
        {
          "output_type": "stream",
          "name": "stdout",
          "text": [
            "The item is of colour Red and is of border width 2cm.\n",
            "The length is 15cm and width is 10cm.\n"
          ]
        }
      ]
    },
    {
      "cell_type": "code",
      "source": [
        "circle_shape = Circle(\"Green\",\"2cm\",\"5cm\")\n",
        "circle_shape.CircleDetails()"
      ],
      "metadata": {
        "colab": {
          "base_uri": "https://localhost:8080/"
        },
        "id": "TCHMsCyJzrx9",
        "outputId": "f12bf2ab-d03b-4b39-d7e0-5c74394c726e"
      },
      "execution_count": 26,
      "outputs": [
        {
          "output_type": "stream",
          "name": "stdout",
          "text": [
            "The item is of colour Green and is of border width 2cm.\n",
            "The radius is 5cm.\n"
          ]
        }
      ]
    },
    {
      "cell_type": "markdown",
      "source": [
        "9. Create a base class called \"Device\" with attributes like \"brand\" and \"model.\" Derive\n",
        "two classes, \"Phone\" and \"Tablet,\" from \"Device.\" Add specific attributes like\n",
        "\"screen_size\" for the \"Phone\" class and \"battery_capacity\" for the \"Tablet\" class."
      ],
      "metadata": {
        "id": "vYZhhUYMz_9M"
      }
    },
    {
      "cell_type": "code",
      "source": [
        "class Device:\n",
        "  def __init__(self,brand,model):\n",
        "    self.brand = brand\n",
        "    self.model = model\n",
        "\n",
        "  def DisplaySpec(self):\n",
        "    print(f\"The brand is {self.brand} and the model is {self.model}\")\n",
        "\n",
        "class Phone(Device):\n",
        "  def __init__(self,brand,model,screen_size):\n",
        "    super().__init__(brand,model)\n",
        "    self.screen_size = screen_size\n",
        "\n",
        "  def Phone(self):\n",
        "    super().DisplaySpec()\n",
        "    print(f\"The screen_size is {self.screen_size}.\")\n",
        "\n",
        "class Tablet(Device):\n",
        "  def __init__(self,brand,model,battery_capacity):\n",
        "    super().__init__(brand,model)\n",
        "    self.battery_capacity = battery_capacity\n",
        "\n",
        "  def Tablet(self):\n",
        "    super().DisplaySpec()\n",
        "    print(f\"The battery_capacity is {self.battery_capacity}.\")"
      ],
      "metadata": {
        "id": "1RR-TRV7z4fr"
      },
      "execution_count": 27,
      "outputs": []
    },
    {
      "cell_type": "code",
      "source": [
        "phone = Phone(\"Samsung\",\"Galaxy\",\"5 inches\")\n",
        "phone.Phone()"
      ],
      "metadata": {
        "colab": {
          "base_uri": "https://localhost:8080/"
        },
        "id": "CTkA1au_1xsX",
        "outputId": "94e4cade-1a1e-4b7b-f5ef-d8ac5c598eea"
      },
      "execution_count": 28,
      "outputs": [
        {
          "output_type": "stream",
          "name": "stdout",
          "text": [
            "The brand is Samsung and the model is Galaxy\n",
            "The screen_size is 5 inches.\n"
          ]
        }
      ]
    },
    {
      "cell_type": "code",
      "source": [
        "tablet = Tablet(\"Samsung\",\"Sam_Tab\",\"13 inches\")\n",
        "tablet.Tablet()"
      ],
      "metadata": {
        "colab": {
          "base_uri": "https://localhost:8080/"
        },
        "id": "fSqCksx91_Xn",
        "outputId": "5abb9653-44e8-46c4-a217-78106573c0af"
      },
      "execution_count": 29,
      "outputs": [
        {
          "output_type": "stream",
          "name": "stdout",
          "text": [
            "The brand is Samsung and the model is Sam_Tab\n",
            "The battery_capacity is 13 inches.\n"
          ]
        }
      ]
    },
    {
      "cell_type": "markdown",
      "source": [
        "10. Create a base class called \"BankAccount\" with attributes like \"account_number\" and\n",
        "\"balance.\" Derive two classes, \"SavingsAccount\" and \"CheckingAccount,\" from\n",
        "\"BankAccount.\" Add specific methods like \"calculate_interest\" for the\n",
        "\"SavingsAccount\" class and \"deduct_fees\" for the \"CheckingAccount\" class."
      ],
      "metadata": {
        "id": "wN3U5uCc2kB4"
      }
    },
    {
      "cell_type": "code",
      "source": [
        "class BankAccount:\n",
        "  def __init__(self,account_number,balance):\n",
        "    self.account_number = account_number\n",
        "    self.balance = balance\n",
        "\n",
        "  def getDetails(self):\n",
        "    print(f\"The account number {self.account_number} has balance of {self.balance}.\")\n",
        "\n",
        "\n",
        "class SavingsAccount(BankAccount):\n",
        "  def __init__(self,account_number,balance,calculate_interest):\n",
        "    super().__init__(account_number,balance)\n",
        "    self.calculate_interest = calculate_interest\n",
        "\n",
        "  def getInterest(self):\n",
        "    super().getDetails()\n",
        "    print(f\"Interest calculated is : {self.calculate_interest}\")\n",
        "\n",
        "class CheckingAccount(BankAccount):\n",
        "  def __init__(self,account_number,balance,deduct_fees):\n",
        "    super().__init__(account_number,balance)\n",
        "    self.deduct_fees = deduct_fees\n",
        "\n",
        "  def getDeductFees(self):\n",
        "    super().getDetails()\n",
        "    print(f\"Deducted fees is : {self.deduct_fees}\")\n",
        ""
      ],
      "metadata": {
        "id": "EI3FNRHv2Zm3"
      },
      "execution_count": 30,
      "outputs": []
    },
    {
      "cell_type": "code",
      "source": [
        "account = SavingsAccount(12345,10000,'2%')\n",
        "account.getInterest()"
      ],
      "metadata": {
        "colab": {
          "base_uri": "https://localhost:8080/"
        },
        "id": "kaj0Te-X3z94",
        "outputId": "a547e780-e198-4fb9-b860-5a16b9fc5738"
      },
      "execution_count": 31,
      "outputs": [
        {
          "output_type": "stream",
          "name": "stdout",
          "text": [
            "The account number 12345 has balance of 10000.\n",
            "Interest calculated is : 2%\n"
          ]
        }
      ]
    },
    {
      "cell_type": "code",
      "source": [
        "account = CheckingAccount(123,10000,100)\n",
        "account.getDeductFees()"
      ],
      "metadata": {
        "colab": {
          "base_uri": "https://localhost:8080/"
        },
        "id": "jEc9pswJ4DPi",
        "outputId": "a2f0b349-bc6d-4587-8460-ac339f4b6821"
      },
      "execution_count": 32,
      "outputs": [
        {
          "output_type": "stream",
          "name": "stdout",
          "text": [
            "The account number 123 has balance of 10000.\n",
            "Deducted fees is : 100\n"
          ]
        }
      ]
    }
  ]
}