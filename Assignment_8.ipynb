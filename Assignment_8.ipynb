{
  "nbformat": 4,
  "nbformat_minor": 0,
  "metadata": {
    "colab": {
      "provenance": []
    },
    "kernelspec": {
      "name": "python3",
      "display_name": "Python 3"
    },
    "language_info": {
      "name": "python"
    }
  },
  "cells": [
    {
      "cell_type": "markdown",
      "source": [
        "1.  In Python, what is the difference between a built-in function and a user-defined function? Provide an\n",
        "example of each.\n",
        "\n",
        "**Answer:**\n",
        "**Built In Function :** The functions which are already available and the ready to be used in the programming language is termed as Built In Function.\n",
        "**Example:** len() --> Returns the length of an object.\n",
        "\n",
        "**User-Defined Function :** The functions which are not available in the programming language and the developer need to declare their own functions, paarmeters and the logic to carry out the function is termed as User-Defined Function.\n",
        "**Example:** Addition() --> Returns the sum of the all the elements in the list."
      ],
      "metadata": {
        "id": "2kk6v2a2rOVZ"
      }
    },
    {
      "cell_type": "code",
      "source": [
        "#Built-In Function\n",
        "test_string = \"Hello World!\"\n",
        "print(len(test_string))"
      ],
      "metadata": {
        "colab": {
          "base_uri": "https://localhost:8080/"
        },
        "id": "kV9ZOaQZnt_c",
        "outputId": "c7839708-1f57-4f6f-f25c-af78ab3ca312"
      },
      "execution_count": 1,
      "outputs": [
        {
          "output_type": "stream",
          "name": "stdout",
          "text": [
            "12\n"
          ]
        }
      ]
    },
    {
      "cell_type": "code",
      "source": [
        "#User-Defined Function\n",
        "def Addition(list_numbers):\n",
        "  sum = 0\n",
        "  for i in range(len(list_numbers)):\n",
        "    sum += list_numbers[i]\n",
        "  return sum\n",
        "\n",
        "list_numbers = [1,2,3,4,5]\n",
        "Addition(list_numbers)"
      ],
      "metadata": {
        "colab": {
          "base_uri": "https://localhost:8080/"
        },
        "id": "vs-w39sfpfua",
        "outputId": "9b728b21-29a2-4cfe-cab6-f2921f649754"
      },
      "execution_count": 11,
      "outputs": [
        {
          "output_type": "execute_result",
          "data": {
            "text/plain": [
              "15"
            ]
          },
          "metadata": {},
          "execution_count": 11
        }
      ]
    },
    {
      "cell_type": "markdown",
      "source": [
        "2. How can you pass arguments to a function in Python? Explain the difference between positional\n",
        "arguments and keyword arguments.\n",
        "\n",
        "**Answer:** We can pass function in python inside paranthesis post the def keyword and the function name.\n",
        "**Syntax:** def test(arguments)\n",
        "\n",
        "**Positional arguments** are the the arguments which are passed to function in sequential manner i.e. the first argument should be passed first and then the second argument in second.\n",
        "\n",
        "\n",
        "**Keyword arguments** are the the hardcoded arguments which are passed to the function along with a keyword irrespective of the position.\n"
      ],
      "metadata": {
        "id": "-Vqx0fvurV7f"
      }
    },
    {
      "cell_type": "code",
      "source": [
        "def Full_Name(first_name, last_name):\n",
        "  return first_name+ ' ' + last_name\n",
        "\n",
        "Full_Name(\"Bill\",\"Gates\")"
      ],
      "metadata": {
        "colab": {
          "base_uri": "https://localhost:8080/",
          "height": 35
        },
        "id": "qR9_KW4aqLkB",
        "outputId": "16ddb8db-7de6-4c42-872f-49e0e49fa996"
      },
      "execution_count": 12,
      "outputs": [
        {
          "output_type": "execute_result",
          "data": {
            "text/plain": [
              "'Bill Gates'"
            ],
            "application/vnd.google.colaboratory.intrinsic+json": {
              "type": "string"
            }
          },
          "metadata": {},
          "execution_count": 12
        }
      ]
    },
    {
      "cell_type": "code",
      "source": [
        "def Full_Name(first_name = 'Bill', last_name='Gates'):\n",
        "  return first_name+ ' ' + last_name\n",
        "\n",
        "Full_Name()"
      ],
      "metadata": {
        "colab": {
          "base_uri": "https://localhost:8080/",
          "height": 35
        },
        "id": "LyIiaWIes3hM",
        "outputId": "60e536df-8187-4876-f9b8-babc52b92c9b"
      },
      "execution_count": 15,
      "outputs": [
        {
          "output_type": "execute_result",
          "data": {
            "text/plain": [
              "'Bill Gates'"
            ],
            "application/vnd.google.colaboratory.intrinsic+json": {
              "type": "string"
            }
          },
          "metadata": {},
          "execution_count": 15
        }
      ]
    },
    {
      "cell_type": "markdown",
      "source": [
        "3. What is the purpose of the return statement in a function? Can a function have multiple return\n",
        "statements? Explain with an example.\n",
        "\n",
        "**Answer:** The purpose of return statement is to return the final output from funtion post all the operations performed.\n",
        "\n",
        "A function can have multiple return statements but only under different conditions. Single condition cannot have two return statements because once a return statement is executed the operation will be stopped and the output will be returned."
      ],
      "metadata": {
        "id": "ZxZEg3pIuIBl"
      }
    },
    {
      "cell_type": "code",
      "source": [
        "def test(a,b):\n",
        "  # only this statement will be executed.\n",
        "  return a+b\n",
        "  # this statement will not be executed.\n",
        "  return a-b\n",
        "print(test(10,5))\n",
        "\n",
        "def test(a,b):\n",
        "  #Here it depends on the condition.\n",
        "  if(a<b):\n",
        "    return a+b\n",
        "  else:\n",
        "    return a-b\n",
        "print(test(10,5))"
      ],
      "metadata": {
        "colab": {
          "base_uri": "https://localhost:8080/"
        },
        "id": "3dEu-g71temD",
        "outputId": "7ae38250-a6cb-4e35-cdde-cd94976dd8de"
      },
      "execution_count": 19,
      "outputs": [
        {
          "output_type": "stream",
          "name": "stdout",
          "text": [
            "15\n",
            "5\n"
          ]
        }
      ]
    },
    {
      "cell_type": "markdown",
      "source": [
        "4. What are lambda functions in Python? How are they different from regular functions? Provide an\n",
        "example where a lambda function can be useful.\n",
        "\n",
        "**Answer:** Lambda functions are small one-line anonymous function which can have multiple arguments but can have only one expression. Lambda functions provides the ability to code in a simplified manner therby reducing the number of lines in the code.\n",
        "\n",
        "Lambda functions can be used when we need to carry out some specific funtion and get the output in a single line of code, wherea in terms of regular function the code lines exceed. Moreover the lambda function are faster than regular functions.\n",
        "\n"
      ],
      "metadata": {
        "id": "5C8C7YGgv9re"
      }
    },
    {
      "cell_type": "code",
      "source": [
        "#Example: This example shows that at any specified time incase we need the list of even number wwe can just write a line of code to get the entire list.\n",
        "a=2\n",
        "table = list(filter(lambda i:i%a==0,range(1,50)))\n",
        "print(table)"
      ],
      "metadata": {
        "colab": {
          "base_uri": "https://localhost:8080/"
        },
        "id": "CTcgfKKWuinL",
        "outputId": "f9e56591-2b5b-494f-fc5b-ca56af921874"
      },
      "execution_count": 36,
      "outputs": [
        {
          "output_type": "stream",
          "name": "stdout",
          "text": [
            "[2, 4, 6, 8, 10, 12, 14, 16, 18, 20, 22, 24, 26, 28, 30, 32, 34, 36, 38, 40, 42, 44, 46, 48]\n"
          ]
        }
      ]
    },
    {
      "cell_type": "markdown",
      "source": [
        "5. How does the concept of \"scope\" apply to functions in Python? Explain the difference between local\n",
        "scope and global scope.\n",
        "\n",
        "**Answer:** The concept of scope gives the permission to access a specified variable.\n",
        "\n",
        "If a variable is inside a function/region and then the variable is accessible only inside the function then the scope for that variable is** local scope**.\n",
        "\n",
        "Whereas if a variable is defined outside any function/region then the variable can be accessed in the whole code post its declaration which implies that the scope for the variabale is global scope."
      ],
      "metadata": {
        "id": "-_qPCnAe7JEN"
      }
    },
    {
      "cell_type": "markdown",
      "source": [
        "6. How can you use the \"return\" statement in a Python function to return multiple values?\n",
        "\n",
        "**Answer:** We can use the \"return\" statement in a Python function to return multiple values by just passing a comma."
      ],
      "metadata": {
        "id": "7uS9t0tn8T4X"
      }
    },
    {
      "cell_type": "code",
      "source": [
        "def add_sub(a,b):\n",
        "  return [a+b,a-b]\n",
        "\n",
        "add_sub(10,5)"
      ],
      "metadata": {
        "colab": {
          "base_uri": "https://localhost:8080/"
        },
        "id": "JRqCQTi15VSq",
        "outputId": "f22d50b4-7cd8-45d7-cf39-3e5b2afb3ff9"
      },
      "execution_count": 38,
      "outputs": [
        {
          "output_type": "execute_result",
          "data": {
            "text/plain": [
              "[15, 5]"
            ]
          },
          "metadata": {},
          "execution_count": 38
        }
      ]
    },
    {
      "cell_type": "markdown",
      "source": [
        "7. What is the difference between the \"pass by value\" and \"pass by reference\" concepts when it\n",
        "comes to function arguments in Python?\n",
        "\n",
        "**Answer:**\n",
        "\n",
        "Pass by value implies that the value changed inside a function will not be reflected outside the function i.e. when a string is passed to a function if any manipulation is done in the string inside the function then the string will remain unchanged outside the function until the manipulated string is not returned.\n",
        "\n",
        "Pass by reference implies that a list when fed to a function and few manipulations are being done inside the function then the changes in list will be visible outside the function too."
      ],
      "metadata": {
        "id": "iPll-GtP8umR"
      }
    },
    {
      "cell_type": "markdown",
      "source": [
        "8. Create a function that can intake integer or decimal value and do following operations:\n",
        "\n",
        "a. Logarithmic function (log x)\n"
      ],
      "metadata": {
        "id": "HfNitqT8AnY6"
      }
    },
    {
      "cell_type": "code",
      "source": [
        "import math\n",
        "def log(a):\n",
        "  return math.log(a)\n",
        "log(2)"
      ],
      "metadata": {
        "colab": {
          "base_uri": "https://localhost:8080/"
        },
        "id": "nXDEWnNg8biw",
        "outputId": "77068678-7045-4e5f-9de8-269f77d11bb7"
      },
      "execution_count": 40,
      "outputs": [
        {
          "output_type": "execute_result",
          "data": {
            "text/plain": [
              "0.6931471805599453"
            ]
          },
          "metadata": {},
          "execution_count": 40
        }
      ]
    },
    {
      "cell_type": "markdown",
      "source": [
        "b. Exponential function (exp(x))"
      ],
      "metadata": {
        "id": "wmLu9XfXBAHy"
      }
    },
    {
      "cell_type": "code",
      "source": [
        "def exp(a):\n",
        "  return math.exp(a)\n",
        "exp(2)"
      ],
      "metadata": {
        "colab": {
          "base_uri": "https://localhost:8080/"
        },
        "id": "9S9R9F4aA8U6",
        "outputId": "42938ad7-0f0f-4110-e68c-4ac8a8a1ded8"
      },
      "execution_count": 41,
      "outputs": [
        {
          "output_type": "execute_result",
          "data": {
            "text/plain": [
              "7.38905609893065"
            ]
          },
          "metadata": {},
          "execution_count": 41
        }
      ]
    },
    {
      "cell_type": "markdown",
      "source": [
        "c. Power function with base 2 (2\n",
        "x\n",
        ")"
      ],
      "metadata": {
        "id": "bSg3FAC9BLxV"
      }
    },
    {
      "cell_type": "code",
      "source": [
        "def pow(a):\n",
        "  return math.pow(2,a)\n",
        "pow(3)"
      ],
      "metadata": {
        "colab": {
          "base_uri": "https://localhost:8080/"
        },
        "id": "_wuN0ba-BFUo",
        "outputId": "2c7fe2d4-7991-4055-a6db-15a5628ab753"
      },
      "execution_count": 45,
      "outputs": [
        {
          "output_type": "execute_result",
          "data": {
            "text/plain": [
              "8.0"
            ]
          },
          "metadata": {},
          "execution_count": 45
        }
      ]
    },
    {
      "cell_type": "markdown",
      "source": [
        "d. Square root"
      ],
      "metadata": {
        "id": "BFXOK8DABjg5"
      }
    },
    {
      "cell_type": "code",
      "source": [
        "def sqrt(a):\n",
        "  return math.sqrt(a)\n",
        "sqrt(4)"
      ],
      "metadata": {
        "colab": {
          "base_uri": "https://localhost:8080/"
        },
        "id": "rs8_BgFSBZon",
        "outputId": "3746395c-828f-4a37-eb50-fd8bd09ac307"
      },
      "execution_count": 46,
      "outputs": [
        {
          "output_type": "execute_result",
          "data": {
            "text/plain": [
              "2.0"
            ]
          },
          "metadata": {},
          "execution_count": 46
        }
      ]
    },
    {
      "cell_type": "markdown",
      "source": [
        "9. Create a function that takes a full name as an argument and returns first name and last name."
      ],
      "metadata": {
        "id": "5Xygc_j_BxLL"
      }
    },
    {
      "cell_type": "code",
      "source": [
        "def full_Name(fullname):\n",
        "  full_name = fullname.split(' ')\n",
        "  return \"The first name is : \" + full_name[0] + \" and the last name is : \" + full_name[-1]\n",
        "\n",
        "full_Name('Mohandas Karamchand Gandhi')"
      ],
      "metadata": {
        "colab": {
          "base_uri": "https://localhost:8080/",
          "height": 35
        },
        "id": "hmeePO-8Bwj2",
        "outputId": "d11fb138-d3c5-4126-cbab-1f5860a8b4e9"
      },
      "execution_count": 58,
      "outputs": [
        {
          "output_type": "execute_result",
          "data": {
            "text/plain": [
              "'The first name is : Mohandas and the last name is : Gandhi'"
            ],
            "application/vnd.google.colaboratory.intrinsic+json": {
              "type": "string"
            }
          },
          "metadata": {},
          "execution_count": 58
        }
      ]
    }
  ]
}