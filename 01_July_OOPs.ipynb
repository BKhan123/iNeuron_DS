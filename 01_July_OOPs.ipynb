{
  "nbformat": 4,
  "nbformat_minor": 0,
  "metadata": {
    "colab": {
      "provenance": []
    },
    "kernelspec": {
      "name": "python3",
      "display_name": "Python 3"
    },
    "language_info": {
      "name": "python"
    }
  },
  "cells": [
    {
      "cell_type": "markdown",
      "source": [
        "1. What is the primary goal of Object-Oriented Programming (OOP)?\n",
        "\n",
        "**Answer:** The main goal of OOP is to develop the code in a structured manner. It also ensures to make the code more robust, makes the code reusable and also leads to the easy maintainence of the code.\n",
        "\n",
        "All the above can be attained with help of the basic OOPS concept which is Abstraction, Encapsulation, Polymorphism and Inheritance."
      ],
      "metadata": {
        "id": "ydnQ1b-bRot0"
      }
    },
    {
      "cell_type": "markdown",
      "source": [
        "2. What is an object in Python?\n",
        "\n",
        "**Answer:** Objects are the instances of a class, in Python all are termed as objects ranging from variables, functions, list, tuples, dictionaries, sets, every object belong to its class.\n",
        "\n",
        "Objects are basically collection of items which holds different attributes, methods which are easily accessible for required use."
      ],
      "metadata": {
        "id": "KcdZN-R0SQ5E"
      }
    },
    {
      "cell_type": "markdown",
      "source": [
        "3. What is a class in Python?\n",
        "\n",
        "**Answer:** A class in Python is a blueprint of an object which can hold different attributes, functions and the same can be accessed from anywhere just by creating an object which is the isntance of the class.\n",
        "\n",
        "For example: a human body is a class, where hands, legs, eyes etc are the attributes of the human body class and eating, walking, sleeping etc are the functions of the human body class."
      ],
      "metadata": {
        "id": "-Q4QYyidT0lt"
      }
    },
    {
      "cell_type": "markdown",
      "source": [
        "4. What are attributes and methods in a class?\n",
        "\n",
        "**Answer:**\n",
        "\n",
        "**Atributes** are the basically the variables which can be accessed or re-used from anywhere just by creating an instance of the class.\n",
        "\n",
        "**Methods** in class are the functions declared inside the class where some operations are performed and the desired output is provided.\n",
        "\n",
        "In the below example student_name, student_location are the **Attributes** whereas __init__, AgeCheck are the **Methods**"
      ],
      "metadata": {
        "id": "RIPJItgqUooK"
      }
    },
    {
      "cell_type": "code",
      "source": [
        "class School:\n",
        "\n",
        "  def __init__(self,student_name, student_location):\n",
        "    self.student_name = student_name\n",
        "    self.student_location = student_location\n",
        "\n",
        "  def AgeCheck(self, student_age):\n",
        "    if(student_age>3):\n",
        "      print(f\"{self.student_name} from {self.student_location} is elligible for school.\")\n",
        "    else:\n",
        "      print(f\"{self.student_name} from {self.student_location} is not elligible for school.\")"
      ],
      "metadata": {
        "id": "o0LceqB4XdBk"
      },
      "execution_count": 2,
      "outputs": []
    },
    {
      "cell_type": "code",
      "source": [
        "abc_school = School(\"Test\",\"Delhi\")\n",
        "abc_school.AgeCheck(1)"
      ],
      "metadata": {
        "colab": {
          "base_uri": "https://localhost:8080/"
        },
        "id": "G0_aea0JYSEX",
        "outputId": "a6a585a6-a895-4ca4-8983-6d9583fc4f84"
      },
      "execution_count": 3,
      "outputs": [
        {
          "output_type": "stream",
          "name": "stdout",
          "text": [
            "Test from Delhi is not elligible for school.\n"
          ]
        }
      ]
    },
    {
      "cell_type": "markdown",
      "source": [
        "5. What is the difference between class variables and instance variables in Python?\n",
        "\n",
        "There are two types of variables one is **class variable** which is declared outside __init__ function which cannot be changed outside the class whereas **instance variable** is declared inside __init__ function and can be changed by creating an instance of the class and passing the variables.\n",
        "\n",
        "In the below example school_name is the class variable which cannot be changed whereas student_name, student_location are instance variables for which any value can be passed."
      ],
      "metadata": {
        "id": "UuRh1m0sW48g"
      }
    },
    {
      "cell_type": "code",
      "source": [
        "class School:\n",
        "  school_name = \"HOLY CROSS SCHOOL\"\n",
        "  def __init__(self,student_name, student_location):\n",
        "    self.student_name = student_name\n",
        "    self.student_location = student_location\n",
        "\n",
        "  def AgeCheck(self, student_age):\n",
        "    if(student_age>3):\n",
        "      print(f\"{self.student_name} from {self.student_location} is elligible for school.\")\n",
        "    else:\n",
        "      print(f\"{self.student_name} from {self.student_location} is not elligible for school.\")"
      ],
      "metadata": {
        "id": "vGx4wOvbZdzi"
      },
      "execution_count": 6,
      "outputs": []
    },
    {
      "cell_type": "code",
      "source": [
        "abc_school = School(\"Test\",\"Delhi\")\n",
        "abc_school.AgeCheck(1)\n",
        "print(abc_school.school_name)"
      ],
      "metadata": {
        "colab": {
          "base_uri": "https://localhost:8080/"
        },
        "id": "5T1nf8BAZrTK",
        "outputId": "0682d6e6-6720-43ed-eab1-0c3dc30f3fec"
      },
      "execution_count": 7,
      "outputs": [
        {
          "output_type": "stream",
          "name": "stdout",
          "text": [
            "Test from Delhi is not elligible for school.\n",
            "HOLY CROSS SCHOOL\n"
          ]
        }
      ]
    },
    {
      "cell_type": "markdown",
      "source": [
        "6. What is the purpose of the self parameter in Python class methods?\n",
        "\n",
        "**Answer:** Conventionally we use the name **self** we can use any other names for it. It is used to bind the given arguments for different objects i.e. in order to bind multiple arguments for the multiple objects we use self."
      ],
      "metadata": {
        "id": "acUp0mntaOzW"
      }
    },
    {
      "cell_type": "markdown",
      "source": [
        "7. For a library management system, you have to design the \"Book\" class with OOP\n",
        "principles in mind. The “Book” class will have following attributes:\n",
        "\n",
        "a. title: Represents the title of the book.\n",
        "\n",
        "b. author: Represents the author(s) of the book.\n",
        "\n",
        "c. isbn: Represents the ISBN (International Standard Book Number) of the book.\n",
        "\n",
        "d. publication_year: Represents the year of publication of the book.\n",
        "\n",
        "e. available_copies: Represents the number of copies available for checkout.\n",
        "\n",
        "The class will also include the following methods:\n",
        "\n",
        "a. check_out(self): Decrements the available copies by one if there are copies\n",
        "available for checkout.\n",
        "\n",
        "b. return_book(self): Increments the available copies by one when a book is\n",
        "returned.\n",
        "\n",
        "c. display_book_info(self): Displays the information about the book, including its\n",
        "attributes and the number of available copies."
      ],
      "metadata": {
        "id": "DA14fGfucl5v"
      }
    },
    {
      "cell_type": "code",
      "source": [
        "class Book:\n",
        "  def __init__(self, title,author,isbn,publication_year,available_copies):\n",
        "    self.title = title\n",
        "    self.author = author\n",
        "    self.isbn = isbn\n",
        "    self.publication_year = publication_year\n",
        "    self.available_copies = available_copies\n",
        "\n",
        "  def check_out(self):\n",
        "    self.available_copies -= 1\n",
        "\n",
        "  def return_book(self):\n",
        "    self.available_copies += 1\n",
        "\n",
        "  def display_book_info(self):\n",
        "    print(f\"The book {self.title} written by {self.author} with book number {self.isbn} published in year {self.publication_year} has {self.available_copies} copies\")\n"
      ],
      "metadata": {
        "id": "H_WQGiSqUoAB"
      },
      "execution_count": 15,
      "outputs": []
    },
    {
      "cell_type": "code",
      "execution_count": 19,
      "metadata": {
        "colab": {
          "base_uri": "https://localhost:8080/"
        },
        "id": "nqPpiylqRjpG",
        "outputId": "f6880409-e2a6-48bc-cb11-00fa95231212"
      },
      "outputs": [
        {
          "output_type": "stream",
          "name": "stdout",
          "text": [
            "The book Fairyland written by Enid Blyton with book number 123456 published in year 2001 has 10 copies\n"
          ]
        }
      ],
      "source": [
        "book = Book(\"Fairyland\",\"Enid Blyton\",123456,\"2001\",10)\n",
        "book.display_book_info()"
      ]
    },
    {
      "cell_type": "code",
      "source": [
        "book.check_out()\n",
        "book.display_book_info()"
      ],
      "metadata": {
        "colab": {
          "base_uri": "https://localhost:8080/"
        },
        "id": "YpSjEYRNeRUN",
        "outputId": "663fd7b6-ac40-4229-ee35-62d8acfb2f8b"
      },
      "execution_count": 20,
      "outputs": [
        {
          "output_type": "stream",
          "name": "stdout",
          "text": [
            "The book Fairyland written by Enid Blyton with book number 123456 published in year 2001 has 9 copies\n"
          ]
        }
      ]
    },
    {
      "cell_type": "code",
      "source": [
        "book.return_book()\n",
        "book.display_book_info()"
      ],
      "metadata": {
        "colab": {
          "base_uri": "https://localhost:8080/"
        },
        "id": "Y3KjPVjefE7o",
        "outputId": "5dac0d4e-3eb4-4514-93fa-b3528cfff77d"
      },
      "execution_count": 21,
      "outputs": [
        {
          "output_type": "stream",
          "name": "stdout",
          "text": [
            "The book Fairyland written by Enid Blyton with book number 123456 published in year 2001 has 10 copies\n"
          ]
        }
      ]
    },
    {
      "cell_type": "markdown",
      "source": [
        "8. For a ticket booking system, you have to design the \"Ticket\" class with OOP\n",
        "principles in mind. The “Ticket” class should have the following attributes:\n",
        "\n",
        "a. ticket_id: Represents the unique identifier for the ticket.\n",
        "\n",
        "b. event_name: Represents the name of the event.\n",
        "\n",
        "c. event_date: Represents the date of the event.\n",
        "\n",
        "d. venue: Represents the venue of the event.\n",
        "\n",
        "e. seat_number: Represents the seat number associated with the ticket.\n",
        "\n",
        "f. price: Represents the price of the ticket.\n",
        "\n",
        "g. is_reserved: Represents the reservation status of the ticket.\n",
        "\n",
        "The class also includes the following methods:\n",
        "\n",
        "a. reserve_ticket(self): Marks the ticket as reserved if it is not already reserved.\n",
        "\n",
        "b. cancel_reservation(self): Cancels the reservation of the ticket if it is already\n",
        "reserved.\n",
        "\n",
        "c. display_ticket_info(self): Displays the information about the ticket, including its\n",
        "attributes and reservation status."
      ],
      "metadata": {
        "id": "YxdJOywGfRrz"
      }
    },
    {
      "cell_type": "code",
      "source": [
        "class Ticket:\n",
        "\n",
        "  def __init__(self,ticket_id,event_name,event_date,venue,seat_number,price,is_reserved):\n",
        "    self.ticket_id = ticket_id\n",
        "    self.event_name = event_name\n",
        "    self.event_date = event_date\n",
        "    self.venue = venue\n",
        "    self.seat_number = seat_number\n",
        "    self.price = price\n",
        "    self.is_reserved = is_reserved\n",
        "\n",
        "  def reserve_ticket(self):\n",
        "    if(self.is_reserved == \"Not Reserved\"):\n",
        "      self.is_reserved = \"Reserved\"\n",
        "\n",
        "  def cancel_reservation(self):\n",
        "    if(self.is_reserved == \"Reserved\"):\n",
        "      self.is_reserved = \"Cancelled\"\n",
        "\n",
        "  def display_ticket_info(self):\n",
        "    print(f\"The ticket for {self.venue} having ticket number {self.ticket_id} with seat number {self.seat_number} for {self.event_name} , {self.event_date}  for {self.price} rupees is {self.is_reserved}\")\n"
      ],
      "metadata": {
        "id": "xpJbN67KfIRt"
      },
      "execution_count": 78,
      "outputs": []
    },
    {
      "cell_type": "code",
      "source": [
        "ticket = Ticket(123,\"Diwali\",\"12/11/2023\",\"Delhi\",15,1000,\"Not Reserved\")\n",
        "ticket.reserve_ticket()"
      ],
      "metadata": {
        "id": "qXHlABqviJ4K"
      },
      "execution_count": 79,
      "outputs": []
    },
    {
      "cell_type": "code",
      "source": [
        "ticket.display_ticket_info()"
      ],
      "metadata": {
        "colab": {
          "base_uri": "https://localhost:8080/"
        },
        "id": "RduJeXABii8y",
        "outputId": "070b05d8-0ad7-40e9-c7c4-e27eb576a09f"
      },
      "execution_count": 80,
      "outputs": [
        {
          "output_type": "stream",
          "name": "stdout",
          "text": [
            "The ticket 123 with seat number 15 for Diwali on 12/11/2023 for Delhi for 1000 is Reserved\n"
          ]
        }
      ]
    },
    {
      "cell_type": "code",
      "source": [
        "ticket.cancel_reservation()\n",
        "ticket.display_ticket_info()"
      ],
      "metadata": {
        "colab": {
          "base_uri": "https://localhost:8080/"
        },
        "id": "xVRxlaRGimvw",
        "outputId": "a361acaa-8424-47e3-ee5a-c276921c3fc4"
      },
      "execution_count": 81,
      "outputs": [
        {
          "output_type": "stream",
          "name": "stdout",
          "text": [
            "The ticket 123 with seat number 15 for Diwali on 12/11/2023 for Delhi for 1000 is Cancelled\n"
          ]
        }
      ]
    },
    {
      "cell_type": "markdown",
      "source": [
        "9. You are creating a shopping cart for an e-commerce website. Using OOP to model\n",
        "the \"ShoppingCart\" functionality the class should contain following attributes and\n",
        "methods:\n",
        "\n",
        "a. items: Represents the list of items in the shopping cart.\n",
        "\n",
        "The class also includes the following methods:\n",
        "\n",
        "a. add_item(self, item): Adds an item to the shopping cart by appending it to the\n",
        "list of items.\n",
        "\n",
        "b. remove_item(self, item): Removes an item from the shopping cart if it exists in\n",
        "the list.\n",
        "\n",
        "c. view_cart(self): Displays the items currently present in the shopping cart.\n",
        "\n",
        "d. clear_cart(self): Clears all items from the shopping cart by reassigning an\n",
        "empty list to the items attribute."
      ],
      "metadata": {
        "id": "4Qjy74htjC6g"
      }
    },
    {
      "cell_type": "code",
      "source": [
        "class ShoppingCart:\n",
        "\n",
        "  def __init__(self,items):\n",
        "    self.items = items\n",
        "\n",
        "  def add_item(self,item):\n",
        "    self.items.append(item)\n",
        "\n",
        "  def remove_item(self,item):\n",
        "    self.items.remove(item)\n",
        "\n",
        "  def view_cart(self):\n",
        "    print(self.items)\n",
        "\n",
        "  def clear_cart(self):\n",
        "    self.items.clear()\n"
      ],
      "metadata": {
        "id": "NqLP0lLVi2yx"
      },
      "execution_count": 37,
      "outputs": []
    },
    {
      "cell_type": "code",
      "source": [
        "cart = ShoppingCart([\"Apple\",\"Banana\",\"Coconut\",\"Dragon Fruit\",\"Eggs\",\"Fish\",\"Grapes\"])\n",
        "cart.add_item(\"Honey\")\n",
        "cart.view_cart()"
      ],
      "metadata": {
        "colab": {
          "base_uri": "https://localhost:8080/"
        },
        "id": "K_q-dqKwoGMi",
        "outputId": "63f28690-c5e0-4aa4-cad4-69fe05337d03"
      },
      "execution_count": 38,
      "outputs": [
        {
          "output_type": "stream",
          "name": "stdout",
          "text": [
            "['Apple', 'Banana', 'Coconut', 'Dragon Fruit', 'Eggs', 'Fish', 'Grapes', 'Honey']\n"
          ]
        }
      ]
    },
    {
      "cell_type": "code",
      "source": [
        "cart.remove_item(\"Eggs\")\n",
        "cart.view_cart()"
      ],
      "metadata": {
        "colab": {
          "base_uri": "https://localhost:8080/"
        },
        "id": "QCF9wr57osPH",
        "outputId": "78d4393b-d970-4734-a460-d6b3620bff9a"
      },
      "execution_count": 39,
      "outputs": [
        {
          "output_type": "stream",
          "name": "stdout",
          "text": [
            "['Apple', 'Banana', 'Coconut', 'Dragon Fruit', 'Fish', 'Grapes', 'Honey']\n"
          ]
        }
      ]
    },
    {
      "cell_type": "code",
      "source": [
        "cart.clear_cart()\n",
        "cart.view_cart()"
      ],
      "metadata": {
        "colab": {
          "base_uri": "https://localhost:8080/"
        },
        "id": "M7QBelOXomqg",
        "outputId": "672ee7f1-0958-47cd-8e41-39727d3f134d"
      },
      "execution_count": 40,
      "outputs": [
        {
          "output_type": "stream",
          "name": "stdout",
          "text": [
            "[]\n"
          ]
        }
      ]
    },
    {
      "cell_type": "markdown",
      "source": [
        "10. Imagine a school management system. You have to design the \"Student\" class using\n",
        "OOP concepts.The “Student” class has the following attributes:\n",
        "\n",
        "a. name: Represents the name of the student.\n",
        "\n",
        "b. age: Represents the age of the student.\n",
        "\n",
        "c. grade: Represents the grade or class of the student.\n",
        "\n",
        "d. student_id: Represents the unique identifier for the student.\n",
        "\n",
        "e. attendance: Represents the attendance record of the student.\n",
        "\n",
        "The class should also include the following methods:\n",
        "\n",
        "a. update_attendance(self, date, status): Updates the attendance record of the\n",
        "student for a given date with the provided status (e.g., present or absent).\n",
        "\n",
        "b. get_attendance(self): Returns the attendance record of the student.\n",
        "\n",
        "c. get_average_attendance(self): Calculates and returns the average\n",
        "attendance percentage of the student based on their attendance record."
      ],
      "metadata": {
        "id": "NZCb4rOppSrU"
      }
    },
    {
      "cell_type": "code",
      "source": [
        "class Student:\n",
        "\n",
        "  def __init__(self,name,age,grade,student_id,attendance):\n",
        "    self.name = name\n",
        "    self.age = age\n",
        "    self.grade = grade\n",
        "    self.student_id = student_id\n",
        "    self.attendance = attendance\n",
        "    self.record = []\n",
        "\n",
        "\n",
        "  def update_attendance(self,date,status):\n",
        "    self.attendance = status\n",
        "    self.record.append([self.name,self.age,self.grade,self.student_id,date,status])\n",
        "\n",
        "  def get_attendence(self):\n",
        "    print(self.record)\n",
        "\n",
        "  def get_average_attendance(self):\n",
        "    j = 0\n",
        "    for i in self.record:\n",
        "      if i[5] == \"present\":\n",
        "        j += 1\n",
        "    return (f\"The average attendance percentage of the student is {j/len(self.record) * 100}.\")\n",
        "\n"
      ],
      "metadata": {
        "id": "u9mV7HWzpZrH"
      },
      "execution_count": 76,
      "outputs": []
    },
    {
      "cell_type": "code",
      "source": [
        "student = Student(\"Test\",10,5,1,\"present\")\n",
        "student.update_attendance(\"01/07/2023\",\"present\")\n",
        "student.update_attendance(\"02/07/2023\",\"present\")\n",
        "student.update_attendance(\"03/07/2023\",\"present\")\n",
        "student.update_attendance(\"04/07/2023\",\"absent\")\n",
        "student.update_attendance(\"05/07/2023\",\"present\")\n",
        "student.get_attendence()\n",
        "student.get_average_attendance()"
      ],
      "metadata": {
        "colab": {
          "base_uri": "https://localhost:8080/",
          "height": 73
        },
        "id": "wR2YN1BDzASz",
        "outputId": "978225b6-bc9f-4253-9937-375c98cc9058"
      },
      "execution_count": 77,
      "outputs": [
        {
          "output_type": "stream",
          "name": "stdout",
          "text": [
            "[['Test', 10, 5, 1, '01/07/2023', 'present'], ['Test', 10, 5, 1, '02/07/2023', 'present'], ['Test', 10, 5, 1, '03/07/2023', 'present'], ['Test', 10, 5, 1, '04/07/2023', 'absent'], ['Test', 10, 5, 1, '05/07/2023', 'present']]\n"
          ]
        },
        {
          "output_type": "execute_result",
          "data": {
            "text/plain": [
              "'The average attendance percentage of the student is 80.0.'"
            ],
            "application/vnd.google.colaboratory.intrinsic+json": {
              "type": "string"
            }
          },
          "metadata": {},
          "execution_count": 77
        }
      ]
    }
  ]
}