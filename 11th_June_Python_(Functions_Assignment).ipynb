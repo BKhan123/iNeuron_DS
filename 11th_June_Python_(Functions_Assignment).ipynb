{
  "nbformat": 4,
  "nbformat_minor": 0,
  "metadata": {
    "colab": {
      "provenance": []
    },
    "kernelspec": {
      "name": "python3",
      "display_name": "Python 3"
    },
    "language_info": {
      "name": "python"
    }
  },
  "cells": [
    {
      "cell_type": "markdown",
      "source": [
        "1. What is a lambda function in Python, and how does it differ from a regular function?\n",
        "\n",
        "**Answer:** **Lambda Functions** are small one-line anonymous function which can have multiple arguments but can have only one expression. Lambda functions provides the ability to code in a simplified manner thereby reducing the number of lines in the code.\n",
        "\n",
        "**Regular Functions** are the functions which is custom made in order to serve the purpose of each operations. Regular functions can have multiple expressions and is not confined to one line."
      ],
      "metadata": {
        "id": "mlvDoOvDwaSQ"
      }
    },
    {
      "cell_type": "markdown",
      "source": [
        "2. Can a lambda function in Python have multiple arguments? If yes, how can you define and use\n",
        "them?\n",
        "\n",
        "**Answer:** Yes lambda function in Python can have multiple arguments. We can define them by using comma separeated values. Below is the example which shows that the lambda function takes x and y as arguments and adds them and pass the output.\n"
      ],
      "metadata": {
        "id": "e7wNdbmcyZbW"
      }
    },
    {
      "cell_type": "code",
      "source": [
        "add = lambda x, y : x + y\n",
        "print(add(55,55))"
      ],
      "metadata": {
        "colab": {
          "base_uri": "https://localhost:8080/"
        },
        "id": "RN4YLsoty954",
        "outputId": "fbce69e7-366b-42eb-81ac-edeeb4553153"
      },
      "execution_count": 1,
      "outputs": [
        {
          "output_type": "stream",
          "name": "stdout",
          "text": [
            "110\n"
          ]
        }
      ]
    },
    {
      "cell_type": "markdown",
      "source": [
        "3. How are lambda functions typically used in Python? Provide an example use case.\n",
        "\n",
        "**Answer:** Lambda functions are typically used while we want to hdo some minor operations inside a function and get the result in one line.\n",
        "\n",
        "Below example shows that a list has been passed and from that list a list of even numbers are sorted and then the list of numbers are mutiplied by 5, we are accomplishing the task in one line of code instead of multiple lines."
      ],
      "metadata": {
        "id": "bgcHRlt0zSuG"
      }
    },
    {
      "cell_type": "code",
      "source": [
        "def multiply_5(list_a):\n",
        "  even_nums = list(filter(lambda x: x%2 == 0, list_a))\n",
        "  multipl_5 = list((lambda x: x*5)(x) for x in even_nums)\n",
        "  return multipl_5\n",
        "multiply_5(list(range(1,11)))"
      ],
      "metadata": {
        "colab": {
          "base_uri": "https://localhost:8080/"
        },
        "id": "GKKDtAWy0Hhc",
        "outputId": "8a2b7a9f-b7c9-4b81-e467-db44fb5b4cec"
      },
      "execution_count": 2,
      "outputs": [
        {
          "output_type": "execute_result",
          "data": {
            "text/plain": [
              "[10, 20, 30, 40, 50]"
            ]
          },
          "metadata": {},
          "execution_count": 2
        }
      ]
    },
    {
      "cell_type": "markdown",
      "source": [
        "4. What are the advantages and limitations of lambda functions compared to regular functions in\n",
        "Python?\n",
        "\n",
        "**Answer: Advantages:**  \n",
        "\n",
        "\n",
        "*   Lambda functions provides the ability to code in a simplified manner therby reducing the number of lines in the code whereas regular functions cannot be written in one line.\n",
        "*   Lambda function are faster than regular functions.\n",
        "\n",
        "\n",
        "**Disadvantages:**  \n",
        "\n",
        "*   Lambda functions are not easy to be read in compared to regular functions.\n",
        "*   Lambda functions cannot do complicated activities whereas in regular functions complicated operations can be performed.\n",
        "\n"
      ],
      "metadata": {
        "id": "vzWKxBpH1-Hr"
      }
    },
    {
      "cell_type": "markdown",
      "source": [
        "5. Are lambda functions in Python able to access variables defined outside of their own scope?\n",
        "Explain with an example.\n",
        "\n",
        "**Answer:** Lambda functions can access variables declared in its scope like regular function its cannot access which is not in its scope.\n",
        "\n",
        "Below example will show the same.\n",
        "\n"
      ],
      "metadata": {
        "id": "_NQwe7XV3E-o"
      }
    },
    {
      "cell_type": "code",
      "source": [
        "# list_b is declared globally so it can be accessed inside function out_of_scope.\n",
        "list_b = list(range(1,5))\n",
        "def out_of_scope(list_a):\n",
        "  even_nums = list(filter(lambda x: x%2 == 0, list_b))\n",
        "  return even_nums\n",
        "out_of_scope(list(range(1,11)))"
      ],
      "metadata": {
        "colab": {
          "base_uri": "https://localhost:8080/"
        },
        "id": "ok6-356B3hZj",
        "outputId": "a06c1b14-e8d8-443b-f17e-4cb351bed7a6"
      },
      "execution_count": 3,
      "outputs": [
        {
          "output_type": "execute_result",
          "data": {
            "text/plain": [
              "[2, 4]"
            ]
          },
          "metadata": {},
          "execution_count": 3
        }
      ]
    },
    {
      "cell_type": "code",
      "source": [
        "# list_c is declared inside test_a so it cannot be accessed inside function out_of_scope in try block.\n",
        "def test_a():\n",
        "  list_c = list(range(1,5))\n",
        "def out_of_scope(list_a):\n",
        "  even_nums = []\n",
        "  try:\n",
        "    even_nums = list(filter(lambda x: x%2 == 0, list_c))\n",
        "  except:\n",
        "    print(\"Exception Caught because list_c is not accessible.\")\n",
        "  return even_nums\n",
        "\n",
        "out_of_scope(list(range(1,11)))"
      ],
      "metadata": {
        "colab": {
          "base_uri": "https://localhost:8080/"
        },
        "id": "GwNELXDr8Tmm",
        "outputId": "add7ac35-3f46-43c8-bd7d-b5092e506461"
      },
      "execution_count": 4,
      "outputs": [
        {
          "output_type": "stream",
          "name": "stdout",
          "text": [
            "Exception Caught because list_c is not accessible.\n"
          ]
        },
        {
          "output_type": "execute_result",
          "data": {
            "text/plain": [
              "[]"
            ]
          },
          "metadata": {},
          "execution_count": 4
        }
      ]
    },
    {
      "cell_type": "markdown",
      "source": [
        "6. Write a lambda function to calculate the square of a given number."
      ],
      "metadata": {
        "id": "pcpcmAb5yI3Y"
      }
    },
    {
      "cell_type": "code",
      "source": [
        "x = lambda a : a**2\n",
        "print(x(5))"
      ],
      "metadata": {
        "colab": {
          "base_uri": "https://localhost:8080/"
        },
        "id": "-S68adBtyM3D",
        "outputId": "28fbcabd-6296-4718-840c-c463a364b17d"
      },
      "execution_count": 5,
      "outputs": [
        {
          "output_type": "stream",
          "name": "stdout",
          "text": [
            "25\n"
          ]
        }
      ]
    },
    {
      "cell_type": "markdown",
      "source": [
        "7. Create a lambda function to find the maximum value in a list of integers.\n",
        "\n",
        "\n",
        "\n"
      ],
      "metadata": {
        "id": "ALHSDIvQyvjO"
      }
    },
    {
      "cell_type": "code",
      "source": [
        "list_a = [1,50,80,10,500]\n",
        "square_list = max([(lambda x: x)(x) for x in list_a])\n",
        "print(square_list)"
      ],
      "metadata": {
        "colab": {
          "base_uri": "https://localhost:8080/"
        },
        "id": "q6tz7fE5yn9k",
        "outputId": "80e507d4-b99b-4f2f-b1d8-27724f9836bc"
      },
      "execution_count": 6,
      "outputs": [
        {
          "output_type": "stream",
          "name": "stdout",
          "text": [
            "500\n"
          ]
        }
      ]
    },
    {
      "cell_type": "markdown",
      "source": [
        "8. Implement a lambda function to filter out all the even numbers from a list of integers."
      ],
      "metadata": {
        "id": "nnxTKjHv2fAF"
      }
    },
    {
      "cell_type": "code",
      "source": [
        "n = [1,55,80,15,500]\n",
        "square_list = list(filter(lambda x: x%2 == 0, n))\n",
        "print(square_list)"
      ],
      "metadata": {
        "colab": {
          "base_uri": "https://localhost:8080/"
        },
        "id": "Z-W25yF0zjsB",
        "outputId": "6969f02f-5c97-4646-c3fe-1e8d781fb75b"
      },
      "execution_count": 7,
      "outputs": [
        {
          "output_type": "stream",
          "name": "stdout",
          "text": [
            "[80, 500]\n"
          ]
        }
      ]
    },
    {
      "cell_type": "markdown",
      "source": [
        "9. Write a lambda function to sort a list of strings in ascending order based on the length of each\n",
        "string."
      ],
      "metadata": {
        "id": "0SN7S7on5HH9"
      }
    },
    {
      "cell_type": "code",
      "source": [
        "n = [\"test\",\"test1\",\"abc\"]\n",
        "square_list = sorted([(lambda x: x)(x) for x in n])\n",
        "print(square_list)"
      ],
      "metadata": {
        "colab": {
          "base_uri": "https://localhost:8080/"
        },
        "id": "qpwDjYVuzm-O",
        "outputId": "15ad2820-ce30-4c44-b638-91d5352fc09c"
      },
      "execution_count": 8,
      "outputs": [
        {
          "output_type": "stream",
          "name": "stdout",
          "text": [
            "['abc', 'test', 'test1']\n"
          ]
        }
      ]
    },
    {
      "cell_type": "markdown",
      "source": [
        "10. Create a lambda function that takes two lists as input and returns a new list containing the\n",
        "common elements between the two lists."
      ],
      "metadata": {
        "id": "kJ1xevoy67Z2"
      }
    },
    {
      "cell_type": "code",
      "source": [
        "list_a = [1,2,3]\n",
        "list_b = [1,4,3]\n",
        "square_list = list(filter(lambda x: x in list_b, list_a))\n",
        "print(square_list)"
      ],
      "metadata": {
        "colab": {
          "base_uri": "https://localhost:8080/"
        },
        "id": "XjO9Irb06E2R",
        "outputId": "45939df5-432d-4fc5-8236-165b801b7951"
      },
      "execution_count": 9,
      "outputs": [
        {
          "output_type": "stream",
          "name": "stdout",
          "text": [
            "[1, 3]\n"
          ]
        }
      ]
    },
    {
      "cell_type": "markdown",
      "source": [
        "11. Write a recursive function to calculate the factorial of a given positive integer."
      ],
      "metadata": {
        "id": "HVnTIESx8b4L"
      }
    },
    {
      "cell_type": "code",
      "source": [
        "def fact(n):\n",
        "  if n==0:\n",
        "    return 1\n",
        "  else:\n",
        "    return n * fact(n-1)\n",
        "\n",
        "fact(5)"
      ],
      "metadata": {
        "id": "uQQUbvWx7ZBK",
        "colab": {
          "base_uri": "https://localhost:8080/"
        },
        "outputId": "87d7b43e-e2eb-473e-e276-ad3513dda2f5"
      },
      "execution_count": 10,
      "outputs": [
        {
          "output_type": "execute_result",
          "data": {
            "text/plain": [
              "120"
            ]
          },
          "metadata": {},
          "execution_count": 10
        }
      ]
    },
    {
      "cell_type": "markdown",
      "source": [
        "12. Implement a recursive function to compute the nth Fibonacci number."
      ],
      "metadata": {
        "id": "gFzBYRIn_z2A"
      }
    },
    {
      "cell_type": "code",
      "source": [
        "def fibonacci(n):\n",
        "  sum =0\n",
        "  for i in range(1,n):\n",
        "    sum = sum + i\n",
        "  return sum\n",
        "\n",
        "fibonacci(5)"
      ],
      "metadata": {
        "colab": {
          "base_uri": "https://localhost:8080/"
        },
        "id": "jtM76Hgx_mFi",
        "outputId": "b87a0aff-974b-4fd0-866b-70dfd07220c6"
      },
      "execution_count": 15,
      "outputs": [
        {
          "output_type": "execute_result",
          "data": {
            "text/plain": [
              "10"
            ]
          },
          "metadata": {},
          "execution_count": 15
        }
      ]
    },
    {
      "cell_type": "markdown",
      "source": [
        "13. Create a recursive function to find the sum of all the elements in a given list."
      ],
      "metadata": {
        "id": "ubnSy820BO7J"
      }
    },
    {
      "cell_type": "code",
      "source": [
        "def sum_list(list_a):\n",
        "  if len(list_a) == 0:\n",
        "    return 0\n",
        "  else:\n",
        "    return list_a[0] + sum_list(list_a[1:])\n",
        "\n",
        "sum_list(list(range(1,5)))"
      ],
      "metadata": {
        "colab": {
          "base_uri": "https://localhost:8080/"
        },
        "id": "2E5Vv7U2A2ri",
        "outputId": "7181871c-7ac4-4761-d1b0-50c6b8184d24"
      },
      "execution_count": 12,
      "outputs": [
        {
          "output_type": "execute_result",
          "data": {
            "text/plain": [
              "10"
            ]
          },
          "metadata": {},
          "execution_count": 12
        }
      ]
    },
    {
      "cell_type": "markdown",
      "source": [
        "14. Write a recursive function to determine whether a given string is a palindrome."
      ],
      "metadata": {
        "id": "0JWNXYcGFRaq"
      }
    },
    {
      "cell_type": "code",
      "source": [
        "def palindrome(str_a,first,last):\n",
        "\n",
        "  #Checks if its an empty string, if yes the Palindrome.\n",
        "  if len(str_a)==0:\n",
        "    return True\n",
        "  #Checks if the first and last character of the string passed is not equal, if not equal then no its not Palindrome.\n",
        "  elif(str_a[first] != str_a[last]):\n",
        "    return False\n",
        "  #Checks if the first and last index passed is equal which impplies for the middle charcter of the odd number string length.\n",
        "  elif(first==last):\n",
        "      return True\n",
        "  #Checks if the firstindex is greater than last if greater, than it implies that the string has reached the middle and traversing to the other side which is not required.\n",
        "  elif(first<last):\n",
        "    return palindrome(str_a,first+1,last-1)\n",
        "\n",
        "\n",
        "n = 'redivider'\n",
        "print(f\"Is Input String a Palindrome : {palindrome(n,0,len(n)-1)}\")\n"
      ],
      "metadata": {
        "id": "yPrDWiBUCrqq",
        "colab": {
          "base_uri": "https://localhost:8080/"
        },
        "outputId": "e6ad7b4d-f5b8-451b-899b-d3fff4e42815"
      },
      "execution_count": 13,
      "outputs": [
        {
          "output_type": "stream",
          "name": "stdout",
          "text": [
            "Is Input String a Palindrome : True\n"
          ]
        }
      ]
    },
    {
      "cell_type": "markdown",
      "source": [
        "15. Implement a recursive function to find the greatest common divisor (GCD) of two positive integers."
      ],
      "metadata": {
        "id": "gciv-0bKSCUk"
      }
    },
    {
      "cell_type": "code",
      "source": [
        "def GCD(n1,n2):\n",
        "  if(n2==0):\n",
        "    return n1\n",
        "  elif n1>n2:\n",
        "    return GCD(n2,n1%n2)\n",
        "  elif n1<n2:\n",
        "    return GCD(n1,n2%n1)\n",
        "\n",
        "print(f\"The GCD of two positive interegers is :{GCD(48,60)}\")"
      ],
      "metadata": {
        "colab": {
          "base_uri": "https://localhost:8080/"
        },
        "id": "oFXxLRNTGYhr",
        "outputId": "98789895-5791-4b81-a809-8b56c4423c01"
      },
      "execution_count": 14,
      "outputs": [
        {
          "output_type": "stream",
          "name": "stdout",
          "text": [
            "The GCD of two positive interegers is :12\n"
          ]
        }
      ]
    }
  ]
}