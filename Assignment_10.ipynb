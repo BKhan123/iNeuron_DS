{
  "nbformat": 4,
  "nbformat_minor": 0,
  "metadata": {
    "colab": {
      "provenance": []
    },
    "kernelspec": {
      "name": "python3",
      "display_name": "Python 3"
    },
    "language_info": {
      "name": "python"
    }
  },
  "cells": [
    {
      "cell_type": "markdown",
      "source": [
        "1. What is the role of try and exception block?\n",
        "\n",
        "**Answer:** The try block is used to try out an operation irrespective of any failures and then catch any form of exception in exception block, thereby leading to better handling of errors."
      ],
      "metadata": {
        "id": "HS5KWO3dL9Lc"
      }
    },
    {
      "cell_type": "markdown",
      "source": [
        "2. What is the syntax for a basic try-except block?\n",
        "\n",
        "**Answer:**\n",
        "\n",
        "**Syntax:**\n",
        "\n",
        "try:\n",
        "\n",
        "      lines of code\n",
        "\n",
        "except:\n",
        "\n",
        "      lines of code\n",
        "\n"
      ],
      "metadata": {
        "id": "MVbt5nWwNJ8B"
      }
    },
    {
      "cell_type": "markdown",
      "source": [
        "3. What happens if an exception occurs inside a try block and there is no matching\n",
        "except block?\n",
        "\n",
        "**Answer:**\n",
        "\n",
        "If an exception occurs inside a try block and there is no matching\n",
        "except block then the exception will not be unhandled and it shall stop theexecution of the program."
      ],
      "metadata": {
        "id": "eKRm5z4GNhIF"
      }
    },
    {
      "cell_type": "markdown",
      "source": [
        "4. What is the difference between using a bare except block and specifying a specific\n",
        "exception type?\n",
        "\n",
        "**Answer:** A bare except block will catch all the errors irrespective of the type of error.\n",
        "\n",
        "Whereas if we define a specific exception type then it will catch only the defined type of exceptions and the other type of error will be unhandled.\n",
        "\n",
        "Below defined is the example for both in notbare_exception() method we can see that exception has not been handled and the function throws error."
      ],
      "metadata": {
        "id": "tBDRDJmIOQEz"
      }
    },
    {
      "cell_type": "code",
      "source": [
        "def bare_exception():\n",
        "  try:\n",
        "    a = int('test')\n",
        "    print(a)\n",
        "  except:\n",
        "    print(\"ValueError caught\")\n",
        "\n",
        "bare_exception()"
      ],
      "metadata": {
        "colab": {
          "base_uri": "https://localhost:8080/"
        },
        "id": "gL0uqAy8L-lH",
        "outputId": "fbf2197c-3e24-490e-a7f8-a668eb5860c9"
      },
      "execution_count": 6,
      "outputs": [
        {
          "output_type": "stream",
          "name": "stdout",
          "text": [
            "ValueError caught\n"
          ]
        }
      ]
    },
    {
      "cell_type": "code",
      "source": [
        "def notbare_exception():\n",
        "  try:\n",
        "    a = int('test')\n",
        "    print(a)\n",
        "  except IndexError:\n",
        "    print(\"ValueError caught\")\n",
        "\n",
        "notbare_exception()"
      ],
      "metadata": {
        "colab": {
          "base_uri": "https://localhost:8080/",
          "height": 321
        },
        "id": "bt9h3P1Hp2wi",
        "outputId": "146eba9c-9a60-4679-a56e-9fc367b6d105"
      },
      "execution_count": 7,
      "outputs": [
        {
          "output_type": "error",
          "ename": "ValueError",
          "evalue": "ignored",
          "traceback": [
            "\u001b[0;31m---------------------------------------------------------------------------\u001b[0m",
            "\u001b[0;31mValueError\u001b[0m                                Traceback (most recent call last)",
            "\u001b[0;32m<ipython-input-7-e40a2aafdda0>\u001b[0m in \u001b[0;36m<cell line: 8>\u001b[0;34m()\u001b[0m\n\u001b[1;32m      6\u001b[0m     \u001b[0mprint\u001b[0m\u001b[0;34m(\u001b[0m\u001b[0;34m\"ValueError caught\"\u001b[0m\u001b[0;34m)\u001b[0m\u001b[0;34m\u001b[0m\u001b[0;34m\u001b[0m\u001b[0m\n\u001b[1;32m      7\u001b[0m \u001b[0;34m\u001b[0m\u001b[0m\n\u001b[0;32m----> 8\u001b[0;31m \u001b[0mnotbare_exception\u001b[0m\u001b[0;34m(\u001b[0m\u001b[0;34m)\u001b[0m\u001b[0;34m\u001b[0m\u001b[0;34m\u001b[0m\u001b[0m\n\u001b[0m",
            "\u001b[0;32m<ipython-input-7-e40a2aafdda0>\u001b[0m in \u001b[0;36mnotbare_exception\u001b[0;34m()\u001b[0m\n\u001b[1;32m      1\u001b[0m \u001b[0;32mdef\u001b[0m \u001b[0mnotbare_exception\u001b[0m\u001b[0;34m(\u001b[0m\u001b[0;34m)\u001b[0m\u001b[0;34m:\u001b[0m\u001b[0;34m\u001b[0m\u001b[0;34m\u001b[0m\u001b[0m\n\u001b[1;32m      2\u001b[0m   \u001b[0;32mtry\u001b[0m\u001b[0;34m:\u001b[0m\u001b[0;34m\u001b[0m\u001b[0;34m\u001b[0m\u001b[0m\n\u001b[0;32m----> 3\u001b[0;31m     \u001b[0ma\u001b[0m \u001b[0;34m=\u001b[0m \u001b[0mint\u001b[0m\u001b[0;34m(\u001b[0m\u001b[0;34m'test'\u001b[0m\u001b[0;34m)\u001b[0m\u001b[0;34m\u001b[0m\u001b[0;34m\u001b[0m\u001b[0m\n\u001b[0m\u001b[1;32m      4\u001b[0m     \u001b[0mprint\u001b[0m\u001b[0;34m(\u001b[0m\u001b[0ma\u001b[0m\u001b[0;34m)\u001b[0m\u001b[0;34m\u001b[0m\u001b[0;34m\u001b[0m\u001b[0m\n\u001b[1;32m      5\u001b[0m   \u001b[0;32mexcept\u001b[0m \u001b[0mIndexError\u001b[0m\u001b[0;34m:\u001b[0m\u001b[0;34m\u001b[0m\u001b[0;34m\u001b[0m\u001b[0m\n",
            "\u001b[0;31mValueError\u001b[0m: invalid literal for int() with base 10: 'test'"
          ]
        }
      ]
    },
    {
      "cell_type": "markdown",
      "source": [
        "5. Can you have nested try-except blocks in Python? If yes, then give an example.\n",
        "\n",
        "**Answer:** Yes we can have nested try-except blocks. Below is the example."
      ],
      "metadata": {
        "id": "gkuIgdslq4Fh"
      }
    },
    {
      "cell_type": "code",
      "source": [
        "def nested_try_catch():\n",
        "  try:\n",
        "    print('Start of the function.')\n",
        "    try:\n",
        "      a = 'test'\n",
        "      print(int(a))\n",
        "    except ValueError:\n",
        "      print('ValueError Caught')\n",
        "  except:\n",
        "    print('First exception block.')\n",
        "\n",
        "nested_try_catch()"
      ],
      "metadata": {
        "colab": {
          "base_uri": "https://localhost:8080/"
        },
        "id": "Vh-Vpo2FqkkE",
        "outputId": "6b07e0a2-7895-4954-92d0-745db01745fa"
      },
      "execution_count": 9,
      "outputs": [
        {
          "output_type": "stream",
          "name": "stdout",
          "text": [
            "Start of the function.\n",
            "ValueError Caught\n"
          ]
        }
      ]
    },
    {
      "cell_type": "markdown",
      "source": [
        "6. Can we use multiple exception blocks, if yes then give an example.\n",
        "\n",
        "**Answer:**\n",
        "\n",
        "Yes we use multiple exception blocks to handle differnet forms of error.\n"
      ],
      "metadata": {
        "id": "Lrx6k-vJsMyr"
      }
    },
    {
      "cell_type": "code",
      "source": [
        "def multiple_exception(n):\n",
        "  try:\n",
        "      if type(n) == str:\n",
        "        print(int(n))\n",
        "      elif type(n) == int:\n",
        "        print(2/n)\n",
        "      elif type(n) == list:\n",
        "        print(n[3])\n",
        "  except ValueError:\n",
        "      print('ValueError Caught.')\n",
        "  except ZeroDivisionError:\n",
        "    print('ZeroDivisionError Caught.')\n",
        "  except:\n",
        "    print('All other exceptions caught.')\n",
        "\n",
        "multiple_exception('test')\n",
        "multiple_exception(0)\n",
        "multiple_exception([0,1,2])"
      ],
      "metadata": {
        "colab": {
          "base_uri": "https://localhost:8080/"
        },
        "id": "6NzIyn-Rr6GV",
        "outputId": "3ce7b5c1-c77f-45e3-b160-ae2b8c5c4bfc"
      },
      "execution_count": 12,
      "outputs": [
        {
          "output_type": "stream",
          "name": "stdout",
          "text": [
            "ValueError Caught.\n",
            "ZeroDivisionError Caught.\n",
            "All other exceptions caught.\n"
          ]
        }
      ]
    },
    {
      "cell_type": "markdown",
      "source": [
        "7. Write the reason due to which following errors are raised:\n",
        "\n",
        "a. EOFError\n",
        "\n",
        "**Answer:** This error occurs when we have asked for th einput from user and the user doesnot give any input and tries to continue with the flow.\n",
        "\n",
        "b. FloatingPointError\n",
        "\n",
        "**Answer:**  When we try to do operations using float numbers then we get this type of error and it can be due to multiple reasons. Suppose a calculation that produces a result that is too large to be represented as a floating-point number or operations of float which would provide undefined results, attemping to compare flaot with integer.\n",
        "\n",
        "In order to see floating point error, the same needs to be turned on otherwise we cannot see the same\n",
        "\n",
        "c. IndexError\n",
        "\n",
        "**Answer:**  This error occurs when a user wants to access a particualr item in a list via index number and that list does not veen contain that index.\n",
        "\n",
        "\n",
        "d. MemoryError\n",
        "\n",
        "**Answer:**  This error occurs when the interpreter has run out of memory to allocate to the program we have coded.\n",
        "\n",
        "\n",
        "e. OverflowError\n",
        "\n",
        "**Answer:**  This error occurs when the result of any operations exceeds the store limit of the variable which is created to store the result.\n",
        "\n",
        "f. TabError\n",
        "\n",
        "**Answer:**  This error occurs when incorrect tab spaces or indentation are provided.\n",
        "\n",
        "\n",
        "g. ValueError\n",
        "\n",
        "\n",
        "**Answer:**  This error occurs when we try to convert a value to its inappropriate datatype.\n",
        "Suppose if we try to convert a string to integer then ValueError will be raised."
      ],
      "metadata": {
        "id": "T1LIPCK7ti6l"
      }
    },
    {
      "cell_type": "markdown",
      "source": [
        "8. Write code for the following given scenario and add try-exception block to it.\n",
        "\n",
        "a. Program to divide two numbers"
      ],
      "metadata": {
        "id": "KuZKXtrN1NdD"
      }
    },
    {
      "cell_type": "code",
      "source": [
        "def divide_nos(a,b):\n",
        "  try:\n",
        "    print(a/b)\n",
        "  except:\n",
        "    print(\"Exception Caught.\")\n",
        "\n",
        "divide_nos(10,5)\n",
        "divide_nos(10,0)"
      ],
      "metadata": {
        "colab": {
          "base_uri": "https://localhost:8080/"
        },
        "id": "0aVK4ftIy_Fy",
        "outputId": "3287ac7f-b7d4-443b-fa9a-268ab7ef25dd"
      },
      "execution_count": 24,
      "outputs": [
        {
          "output_type": "stream",
          "name": "stdout",
          "text": [
            "2.0\n",
            "Exception Caught.\n"
          ]
        }
      ]
    },
    {
      "cell_type": "markdown",
      "source": [
        "b. Program to convert a string to an integer"
      ],
      "metadata": {
        "id": "21Pwy08G1lJ2"
      }
    },
    {
      "cell_type": "code",
      "source": [
        "def str_int(n):\n",
        "  try:\n",
        "    a = int(n)\n",
        "    print(a)\n",
        "  except:\n",
        "    print(\"ValueError caught\")\n",
        "\n",
        "str_int('test')"
      ],
      "metadata": {
        "colab": {
          "base_uri": "https://localhost:8080/"
        },
        "id": "pXxwyXzP1bPR",
        "outputId": "cceea6ca-396e-46cb-c737-f7a7db25ed46"
      },
      "execution_count": 26,
      "outputs": [
        {
          "output_type": "stream",
          "name": "stdout",
          "text": [
            "ValueError caught\n"
          ]
        }
      ]
    },
    {
      "cell_type": "markdown",
      "source": [
        "c. Program to access an element in a list"
      ],
      "metadata": {
        "id": "3Rg9ClmU15PP"
      }
    },
    {
      "cell_type": "code",
      "source": [
        "def ele_list(n,a):\n",
        "  try:\n",
        "    print(n[a])\n",
        "  except:\n",
        "    print(\"Exception caught because the index doesnot exist in list.\")\n",
        "\n",
        "ele_list([1,2,3,4,5],3)\n",
        "ele_list([1,2],3)"
      ],
      "metadata": {
        "colab": {
          "base_uri": "https://localhost:8080/"
        },
        "id": "Mg099LtA1vN7",
        "outputId": "06d106b9-9d4c-4d18-dcfe-4f83e8863516"
      },
      "execution_count": 29,
      "outputs": [
        {
          "output_type": "stream",
          "name": "stdout",
          "text": [
            "4\n",
            "Exception caught because the index doesnot exist in list.\n"
          ]
        }
      ]
    },
    {
      "cell_type": "markdown",
      "source": [
        "d. Program to handle a specific exception"
      ],
      "metadata": {
        "id": "GnGVyrOn2W2R"
      }
    },
    {
      "cell_type": "code",
      "source": [
        "def exception(a):\n",
        "  try:\n",
        "    print(int(a))\n",
        "  except ValueError:\n",
        "    print('ValueError Caught')\n",
        "\n",
        "exception('TEST')"
      ],
      "metadata": {
        "colab": {
          "base_uri": "https://localhost:8080/"
        },
        "id": "uYe3o90T2KDQ",
        "outputId": "9602070b-66e9-44d3-ab15-da5be9fd840e"
      },
      "execution_count": 31,
      "outputs": [
        {
          "output_type": "stream",
          "name": "stdout",
          "text": [
            "ValueError Caught\n"
          ]
        }
      ]
    },
    {
      "cell_type": "markdown",
      "source": [
        "e. Program to handle any exception"
      ],
      "metadata": {
        "id": "U1PAO_P22vg8"
      }
    },
    {
      "cell_type": "code",
      "source": [
        "def any_exception(a):\n",
        "  try:\n",
        "    print(int(a))\n",
        "  except:\n",
        "    print('Exception Caught')\n",
        "\n",
        "any_exception('TEST')"
      ],
      "metadata": {
        "colab": {
          "base_uri": "https://localhost:8080/"
        },
        "id": "Q4p8Zz1o2qtW",
        "outputId": "c0b980f5-e12e-42c7-c69a-bcdb878f1f9d"
      },
      "execution_count": 32,
      "outputs": [
        {
          "output_type": "stream",
          "name": "stdout",
          "text": [
            "Exception Caught\n"
          ]
        }
      ]
    }
  ]
}
